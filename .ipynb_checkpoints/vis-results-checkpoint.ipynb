{
 "cells": [
  {
   "cell_type": "code",
   "execution_count": 16,
   "id": "b7e6d145-8106-4a07-95ce-a2d58b1e6ee4",
   "metadata": {},
   "outputs": [],
   "source": [
    "import numpy as np\n",
    "import meshplot as mp\n",
    "\n",
    "\n"
   ]
  },
  {
   "cell_type": "code",
   "execution_count": 33,
   "id": "3c72865f-d791-4ec2-b6b4-48b21a9fef26",
   "metadata": {},
   "outputs": [],
   "source": [
    "path = \"/vulcanscratch/kzhang/ckpts/pifu/aechmea/results/example/train_eval_epoch99_6152365338188306398.obj\"\n",
    "\n",
    "v, f, c = [], [], []\n",
    "\n",
    "with open(path, \"r\") as file:\n",
    "    for line in file:\n",
    "        curr_line = line.rstrip()\n",
    "        curr_data = curr_line.split(\" \")\n",
    "        if curr_data[0] == \"v\":\n",
    "            v.append([curr_data[1], curr_data[2], curr_data[3]])\n",
    "            c.append([curr_data[4], curr_data[5], curr_data[6]])\n",
    "        elif curr_data[0] == \"f\":\n",
    "            f.append([curr_data[1], curr_data[2], curr_data[3]])\n",
    "        \n",
    "v = np.array(v).astype(float) / 100.0\n",
    "f = np.array(f).astype(float) - 1\n",
    "c = np.array(c).astype(float)"
   ]
  },
  {
   "cell_type": "code",
   "execution_count": 34,
   "id": "1beb8179-2e7d-4647-87a6-e2272e3b7b1d",
   "metadata": {},
   "outputs": [
    {
     "data": {
      "application/vnd.jupyter.widget-view+json": {
       "model_id": "34829cb674554f9f8518282dc041f86c",
       "version_major": 2,
       "version_minor": 0
      },
      "text/plain": [
       "Renderer(camera=PerspectiveCamera(children=(DirectionalLight(color='white', intensity=0.6, position=(0.0, 0.0,…"
      ]
     },
     "metadata": {},
     "output_type": "display_data"
    },
    {
     "data": {
      "text/plain": [
       "10"
      ]
     },
     "execution_count": 34,
     "metadata": {},
     "output_type": "execute_result"
    }
   ],
   "source": [
    "def add_axes(plot, scale=1, loc=[0,0,0]):\n",
    "    p = plot\n",
    "    loc = np.asarray(loc)\n",
    "    p.add_lines(loc+scale*np.array([0,0,0]), loc+scale*np.array([1,0,0]))\n",
    "    p.add_lines(loc+scale*np.array([1,0.01,-0.01]), loc+scale*np.array([1,-0.01,0.01]))\n",
    "    p.add_lines(loc+scale*np.array([0,0,0]), loc+scale*np.array([0,1,0]))\n",
    "    p.add_lines(loc+scale*np.array([0.01,1,-0.01]), loc+scale*np.array([-0.01,1,0.01]))\n",
    "    p.add_lines(loc+scale*np.array([0.01,1.01,-0.01]), loc+scale*np.array([-0.01,1.01,0.01]))\n",
    "    p.add_lines(loc+scale*np.array([0,0,0]), loc+scale*np.array([0,0,1]))\n",
    "    p.add_lines(loc+scale*np.array([0.01,-0.01,1]), loc+scale*np.array([-0.01,0.01,1]))\n",
    "    p.add_lines(loc+scale*np.array([0.01,-0.01,1.01]), loc+scale*np.array([-0.01,0.01,1.01]))\n",
    "    p.add_lines(loc+scale*np.array([0.01,-0.01,1.02]), loc+scale*np.array([-0.01,0.01,1.02]))\n",
    "    return p\n",
    "\n",
    "p = mp.plot(np.zeros(3))\n",
    "# p = mp.plot()\n",
    "p = add_axes(p)\n",
    "p.add_mesh(v, f, c)"
   ]
  },
  {
   "cell_type": "code",
   "execution_count": null,
   "id": "40ef2bac-9236-48ed-93a3-f8924c941268",
   "metadata": {},
   "outputs": [],
   "source": []
  }
 ],
 "metadata": {
  "kernelspec": {
   "display_name": "Python 3 (ipykernel)",
   "language": "python",
   "name": "python3"
  },
  "language_info": {
   "codemirror_mode": {
    "name": "ipython",
    "version": 3
   },
   "file_extension": ".py",
   "mimetype": "text/x-python",
   "name": "python",
   "nbconvert_exporter": "python",
   "pygments_lexer": "ipython3",
   "version": "3.9.7"
  }
 },
 "nbformat": 4,
 "nbformat_minor": 5
}
